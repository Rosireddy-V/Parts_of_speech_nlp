{
  "nbformat": 4,
  "nbformat_minor": 0,
  "metadata": {
    "colab": {
      "provenance": [],
      "authorship_tag": "ABX9TyOrFn1DWMO3caDbdg2+MD+j",
      "include_colab_link": true
    },
    "kernelspec": {
      "name": "python3",
      "display_name": "Python 3"
    },
    "language_info": {
      "name": "python"
    }
  },
  "cells": [
    {
      "cell_type": "markdown",
      "metadata": {
        "id": "view-in-github",
        "colab_type": "text"
      },
      "source": [
        "<a href=\"https://colab.research.google.com/github/Rosireddy-V/Parts_of_speech_nlp/blob/main/POS_Tagging.ipynb\" target=\"_parent\"><img src=\"https://colab.research.google.com/assets/colab-badge.svg\" alt=\"Open In Colab\"/></a>"
      ]
    },
    {
      "cell_type": "code",
      "execution_count": 1,
      "metadata": {
        "id": "dJCp6JQHgyF6"
      },
      "outputs": [],
      "source": [
        "import string\n",
        "from collections import defaultdict"
      ]
    },
    {
      "cell_type": "code",
      "source": [
        "with open(\"WSJ_02-21.pos\",'r') as f:\n",
        "  lines=f.readlines()"
      ],
      "metadata": {
        "id": "RYkcoi8Jh3Rj"
      },
      "execution_count": 4,
      "outputs": []
    },
    {
      "cell_type": "code",
      "source": [
        "print(\"\\t\\tWord\", \"\\tTag\\n\")\n",
        "for i in range(5):\n",
        "  print(f\"line number {i+1}: {lines[i]}\")\n"
      ],
      "metadata": {
        "colab": {
          "base_uri": "https://localhost:8080/"
        },
        "id": "ty1Ep6DniGyt",
        "outputId": "cbbdb6f6-2eaa-458a-9abe-673709bc96d3"
      },
      "execution_count": 5,
      "outputs": [
        {
          "output_type": "stream",
          "name": "stdout",
          "text": [
            "\t\tWord \tTag\n",
            "\n",
            "line number 1: In\tIN\n",
            "\n",
            "line number 2: an\tDT\n",
            "\n",
            "line number 3: Oct.\tNNP\n",
            "\n",
            "line number 4: 19\tCD\n",
            "\n",
            "line number 5: review\tNN\n",
            "\n"
          ]
        }
      ]
    },
    {
      "cell_type": "code",
      "source": [
        "lines[0]"
      ],
      "metadata": {
        "colab": {
          "base_uri": "https://localhost:8080/",
          "height": 35
        },
        "id": "lM8TdY9fi_1v",
        "outputId": "2b305e49-fd4a-4db0-e4a7-530118c4a553"
      },
      "execution_count": 6,
      "outputs": [
        {
          "output_type": "execute_result",
          "data": {
            "text/plain": [
              "'In\\tIN\\n'"
            ],
            "application/vnd.google.colaboratory.intrinsic+json": {
              "type": "string"
            }
          },
          "metadata": {},
          "execution_count": 6
        }
      ]
    },
    {
      "cell_type": "code",
      "source": [
        "words=[line.split(\"\\t\")[0] for line in lines]"
      ],
      "metadata": {
        "id": "blYnzzjTjvjw"
      },
      "execution_count": 9,
      "outputs": []
    },
    {
      "cell_type": "code",
      "source": [
        "freq=defaultdict(int)\n",
        "for word in words:\n",
        "  freq[word]+=1"
      ],
      "metadata": {
        "id": "uRDKZdj4kA8W"
      },
      "execution_count": 10,
      "outputs": []
    },
    {
      "cell_type": "code",
      "source": [
        "vocab=[k for k,v in freq.items() if v>1 and k!=\"\\n\"]"
      ],
      "metadata": {
        "id": "bRO6YLX0kZ3Q"
      },
      "execution_count": 12,
      "outputs": []
    },
    {
      "cell_type": "code",
      "source": [
        "vocab.sort()\n",
        "\n",
        "for i in range(4000,4005):\n",
        "  print(vocab[i])"
      ],
      "metadata": {
        "colab": {
          "base_uri": "https://localhost:8080/"
        },
        "id": "OiFuJNCFlFeu",
        "outputId": "c0957cdd-e8db-46a2-f316-5bc336d39c92"
      },
      "execution_count": 14,
      "outputs": [
        {
          "output_type": "stream",
          "name": "stdout",
          "text": [
            "Early\n",
            "Earnings\n",
            "Earth\n",
            "Earthquake\n",
            "East\n"
          ]
        }
      ]
    },
    {
      "cell_type": "code",
      "source": [
        "def unkn_word(word):\n",
        "  punc=set(string.punctuation)\n",
        "  noun_suffix = [\"action\", \"age\", \"ance\", \"cy\", \"dom\", \"ee\", \"ence\", \"er\", \"hood\", \"ion\", \"ism\", \"ist\", \"ity\", \"ling\", \"ment\", \"ness\", \"or\", \"ry\", \"scape\", \"ship\", \"ty\"]\n",
        "  verb_suffix = [\"ate\", \"ify\", \"ise\", \"ize\"]\n",
        "  adj_suffix = [\"able\", \"ese\", \"ful\", \"i\", \"ian\", \"ible\", \"ic\", \"ish\", \"ive\", \"less\", \"ly\", \"ous\"]\n",
        "  adv_suffix = [\"ward\", \"wards\", \"wise\"]\n",
        "  if any(char.isdigit() for char in word):\n",
        "    return \"--unk_digit--\"\n",
        "  elif any(char in punc for char in word):\n",
        "    return \"--unk_punct--\"\n",
        "  elif any(char.isupper() for char in word):\n",
        "    return \"--unk_upper--\"\n",
        "  elif any(word.endswith(suffix) for suffix in noun_suffix):\n",
        "    return \"--unk_noun--\"\n",
        "  elif any(word.endswith(suffix) for suffix in verb_suffix):\n",
        "    return \"--unk_verb--\"\n",
        "  elif any(word.endswith(suffix) for suffix in adj_suffix):\n",
        "    return \"--unk_adjective--\"\n",
        "  elif any(word.endswith(suffix) for suffix in adv_suffix):\n",
        "    return \"--unk_adverb--\"\n",
        "\n",
        "  return \"unk\""
      ],
      "metadata": {
        "id": "FCzKnvWKlb-s"
      },
      "execution_count": 15,
      "outputs": []
    },
    {
      "cell_type": "code",
      "source": [
        "def get_word_tag(line,vocab):\n",
        "  if not line.split():\n",
        "    word=\"--n--\"\n",
        "    tag=\"--s--\"\n",
        "  else:\n",
        "    word,tag=line.split()\n",
        "    if word not in vocab:\n",
        "      tag=unkn_word(word)\n",
        "\n",
        "  return word,tag"
      ],
      "metadata": {
        "id": "I6QnhDsNou00"
      },
      "execution_count": 17,
      "outputs": []
    },
    {
      "cell_type": "code",
      "source": [
        "get_word_tag('\\n',vocab)"
      ],
      "metadata": {
        "colab": {
          "base_uri": "https://localhost:8080/"
        },
        "id": "zVHRHeUcwoHp",
        "outputId": "384d9a27-9bd7-4afb-9f0a-d669aaf0dd5a"
      },
      "execution_count": 18,
      "outputs": [
        {
          "output_type": "execute_result",
          "data": {
            "text/plain": [
              "('--n--', '--s--')"
            ]
          },
          "metadata": {},
          "execution_count": 18
        }
      ]
    },
    {
      "cell_type": "code",
      "source": [
        "get_word_tag('In\\tIN\\n',vocab)"
      ],
      "metadata": {
        "colab": {
          "base_uri": "https://localhost:8080/"
        },
        "id": "Slwt7LbJw2i7",
        "outputId": "a3d7f22c-1ad9-4670-fee2-0db3a80b4643"
      },
      "execution_count": 19,
      "outputs": [
        {
          "output_type": "execute_result",
          "data": {
            "text/plain": [
              "('In', 'IN')"
            ]
          },
          "metadata": {},
          "execution_count": 19
        }
      ]
    },
    {
      "cell_type": "code",
      "source": [
        "get_word_tag('tardigrade\\tNN\\n',vocab)"
      ],
      "metadata": {
        "colab": {
          "base_uri": "https://localhost:8080/"
        },
        "id": "ocB5-J6tw86k",
        "outputId": "e35dc3b9-93cf-4fbe-9f28-9fba98b9aa70"
      },
      "execution_count": 20,
      "outputs": [
        {
          "output_type": "execute_result",
          "data": {
            "text/plain": [
              "('tardigrade', 'unk')"
            ]
          },
          "metadata": {},
          "execution_count": 20
        }
      ]
    },
    {
      "cell_type": "code",
      "source": [],
      "metadata": {
        "id": "CBEDwUb1xEAT"
      },
      "execution_count": null,
      "outputs": []
    }
  ]
}