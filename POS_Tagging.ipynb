{
  "nbformat": 4,
  "nbformat_minor": 0,
  "metadata": {
    "colab": {
      "provenance": [],
      "authorship_tag": "ABX9TyNlNOWNRaM41Bjz/oVpRQju",
      "include_colab_link": true
    },
    "kernelspec": {
      "name": "python3",
      "display_name": "Python 3"
    },
    "language_info": {
      "name": "python"
    }
  },
  "cells": [
    {
      "cell_type": "markdown",
      "metadata": {
        "id": "view-in-github",
        "colab_type": "text"
      },
      "source": [
        "<a href=\"https://colab.research.google.com/github/Rosireddy-V/Parts_of_speech_nlp/blob/main/POS_Tagging.ipynb\" target=\"_parent\"><img src=\"https://colab.research.google.com/assets/colab-badge.svg\" alt=\"Open In Colab\"/></a>"
      ]
    },
    {
      "cell_type": "code",
      "execution_count": 134,
      "metadata": {
        "id": "dJCp6JQHgyF6"
      },
      "outputs": [],
      "source": [
        "import string\n",
        "from collections import defaultdict"
      ]
    },
    {
      "cell_type": "code",
      "source": [
        "with open(\"WSJ_02-21.pos\",'r') as f:\n",
        "  lines=f.readlines()"
      ],
      "metadata": {
        "id": "RYkcoi8Jh3Rj"
      },
      "execution_count": 135,
      "outputs": []
    },
    {
      "cell_type": "code",
      "source": [
        "print(\"\\t\\tWord\", \"\\tTag\\n\")\n",
        "for i in range(5):\n",
        "  print(f\"line number {i+1}: {lines[i]}\")\n"
      ],
      "metadata": {
        "colab": {
          "base_uri": "https://localhost:8080/"
        },
        "id": "ty1Ep6DniGyt",
        "outputId": "9ed52a90-c9bc-41e8-fe38-32d1914d1e88"
      },
      "execution_count": 136,
      "outputs": [
        {
          "output_type": "stream",
          "name": "stdout",
          "text": [
            "\t\tWord \tTag\n",
            "\n",
            "line number 1: In\tIN\n",
            "\n",
            "line number 2: an\tDT\n",
            "\n",
            "line number 3: Oct.\tNNP\n",
            "\n",
            "line number 4: 19\tCD\n",
            "\n",
            "line number 5: review\tNN\n",
            "\n"
          ]
        }
      ]
    },
    {
      "cell_type": "code",
      "source": [
        "lines[0]"
      ],
      "metadata": {
        "colab": {
          "base_uri": "https://localhost:8080/",
          "height": 35
        },
        "id": "lM8TdY9fi_1v",
        "outputId": "bd7a7300-9cc1-488e-e90a-32124e0160f8"
      },
      "execution_count": 137,
      "outputs": [
        {
          "output_type": "execute_result",
          "data": {
            "text/plain": [
              "'In\\tIN\\n'"
            ],
            "application/vnd.google.colaboratory.intrinsic+json": {
              "type": "string"
            }
          },
          "metadata": {},
          "execution_count": 137
        }
      ]
    },
    {
      "cell_type": "code",
      "source": [
        "words=[line.split(\"\\t\")[0] for line in lines]\n",
        "words[:5]"
      ],
      "metadata": {
        "colab": {
          "base_uri": "https://localhost:8080/"
        },
        "id": "blYnzzjTjvjw",
        "outputId": "c18b5f06-9a60-4686-eac5-8e1345c2467c"
      },
      "execution_count": 138,
      "outputs": [
        {
          "output_type": "execute_result",
          "data": {
            "text/plain": [
              "['In', 'an', 'Oct.', '19', 'review']"
            ]
          },
          "metadata": {},
          "execution_count": 138
        }
      ]
    },
    {
      "cell_type": "code",
      "source": [
        "freq=defaultdict(int)\n",
        "for word in words:\n",
        "  freq[word]+=1\n",
        "tot=freq.items()\n",
        "print(freq['In'])\n",
        "print(type(tot))\n",
        "print(len(tot))"
      ],
      "metadata": {
        "colab": {
          "base_uri": "https://localhost:8080/"
        },
        "id": "uRDKZdj4kA8W",
        "outputId": "aa043c41-ae2d-4dd3-9dd0-13f3caafade6"
      },
      "execution_count": 139,
      "outputs": [
        {
          "output_type": "stream",
          "name": "stdout",
          "text": [
            "1740\n",
            "<class 'dict_items'>\n",
            "44390\n"
          ]
        }
      ]
    },
    {
      "cell_type": "code",
      "source": [
        "voc=[k for k,v in freq.items() if v>1 and k!=\"\\n\"]\n",
        "print(len(voc))"
      ],
      "metadata": {
        "colab": {
          "base_uri": "https://localhost:8080/"
        },
        "id": "bRO6YLX0kZ3Q",
        "outputId": "5ee51e74-abe4-40f7-cc59-6bfcad30206f"
      },
      "execution_count": 140,
      "outputs": [
        {
          "output_type": "stream",
          "name": "stdout",
          "text": [
            "23767\n"
          ]
        }
      ]
    },
    {
      "cell_type": "code",
      "source": [
        "voc.sort()\n",
        "\n",
        "for i in range(4000,4005):\n",
        "  print(voc[i])"
      ],
      "metadata": {
        "colab": {
          "base_uri": "https://localhost:8080/"
        },
        "id": "OiFuJNCFlFeu",
        "outputId": "67592ecc-e554-493a-ec71-f2fbc91451d7"
      },
      "execution_count": 141,
      "outputs": [
        {
          "output_type": "stream",
          "name": "stdout",
          "text": [
            "Early\n",
            "Earnings\n",
            "Earth\n",
            "Earthquake\n",
            "East\n"
          ]
        }
      ]
    },
    {
      "cell_type": "code",
      "source": [
        "def unkn_word(word):\n",
        "  punc=set(string.punctuation)\n",
        "  noun_suffix = [\"action\", \"age\", \"ance\", \"cy\", \"dom\", \"ee\", \"ence\", \"er\", \"hood\", \"ion\", \"ism\", \"ist\", \"ity\", \"ling\", \"ment\", \"ness\", \"or\", \"ry\", \"scape\", \"ship\", \"ty\"]\n",
        "  verb_suffix = [\"ate\", \"ify\", \"ise\", \"ize\"]\n",
        "  adj_suffix = [\"able\", \"ese\", \"ful\", \"i\", \"ian\", \"ible\", \"ic\", \"ish\", \"ive\", \"less\", \"ly\", \"ous\"]\n",
        "  adv_suffix = [\"ward\", \"wards\", \"wise\"]\n",
        "  if any(char.isdigit() for char in word):\n",
        "    return \"--unk_digit--\"\n",
        "  elif any(char in punc for char in word):\n",
        "    return \"--unk_punct--\"\n",
        "  elif any(char.isupper() for char in word):\n",
        "    return \"--unk_upper--\"\n",
        "  elif any(word.endswith(suffix) for suffix in noun_suffix):\n",
        "    return \"--unk_noun--\"\n",
        "  elif any(word.endswith(suffix) for suffix in verb_suffix):\n",
        "    return \"--unk_verb--\"\n",
        "  elif any(word.endswith(suffix) for suffix in adj_suffix):\n",
        "    return \"--unk_adj--\"\n",
        "  elif any(word.endswith(suffix) for suffix in adv_suffix):\n",
        "    return \"--unk_adv--\"\n",
        "\n",
        "  return \"--unk--\""
      ],
      "metadata": {
        "id": "FCzKnvWKlb-s"
      },
      "execution_count": 142,
      "outputs": []
    },
    {
      "cell_type": "code",
      "source": [
        "def get_word_tag(line,vocab):\n",
        "  if not line.split():\n",
        "    word=\"--n--\"\n",
        "    tag=\"--s--\"\n",
        "    return word,tag\n",
        "  else:\n",
        "    word,tag=line.split()\n",
        "    if word not in vocab:\n",
        "      tag=unkn_word(word)\n",
        "    return word,tag\n",
        "\n",
        "  return None"
      ],
      "metadata": {
        "id": "I6QnhDsNou00"
      },
      "execution_count": 143,
      "outputs": []
    },
    {
      "cell_type": "code",
      "source": [
        "get_word_tag('\\n',voc)"
      ],
      "metadata": {
        "colab": {
          "base_uri": "https://localhost:8080/"
        },
        "id": "zVHRHeUcwoHp",
        "outputId": "25580004-b960-4250-b14d-be3413baf92b"
      },
      "execution_count": 144,
      "outputs": [
        {
          "output_type": "execute_result",
          "data": {
            "text/plain": [
              "('--n--', '--s--')"
            ]
          },
          "metadata": {},
          "execution_count": 144
        }
      ]
    },
    {
      "cell_type": "code",
      "source": [
        "t='In\\tIN\\n'\n",
        "a='\\n'\n",
        "w,ta=t.split()\n",
        "#wo,tg=a.split()\n",
        "print(w)\n",
        "print(ta)\n"
      ],
      "metadata": {
        "colab": {
          "base_uri": "https://localhost:8080/"
        },
        "id": "b8GnkLCF1atn",
        "outputId": "c5099a0e-aeaf-4f9f-a48c-7c5b404a3f7d"
      },
      "execution_count": 145,
      "outputs": [
        {
          "output_type": "stream",
          "name": "stdout",
          "text": [
            "In\n",
            "IN\n"
          ]
        }
      ]
    },
    {
      "cell_type": "code",
      "source": [
        "get_word_tag('In\\tIN\\n',voc)"
      ],
      "metadata": {
        "colab": {
          "base_uri": "https://localhost:8080/"
        },
        "id": "Slwt7LbJw2i7",
        "outputId": "f231a373-ceeb-4621-8018-e16b7c446a5e"
      },
      "execution_count": 146,
      "outputs": [
        {
          "output_type": "execute_result",
          "data": {
            "text/plain": [
              "('In', 'IN')"
            ]
          },
          "metadata": {},
          "execution_count": 146
        }
      ]
    },
    {
      "cell_type": "code",
      "source": [
        "get_word_tag('tardigrade\\tNN\\n',voc)"
      ],
      "metadata": {
        "colab": {
          "base_uri": "https://localhost:8080/"
        },
        "id": "ocB5-J6tw86k",
        "outputId": "b099b37e-688f-4da6-97e1-751b440b844f"
      },
      "execution_count": 147,
      "outputs": [
        {
          "output_type": "execute_result",
          "data": {
            "text/plain": [
              "('tardigrade', '--unk--')"
            ]
          },
          "metadata": {},
          "execution_count": 147
        }
      ]
    },
    {
      "cell_type": "code",
      "source": [
        "def preprocess(vocab, data_fp):\n",
        "    \"\"\"\n",
        "    Preprocess data\n",
        "    \"\"\"\n",
        "    orig = []\n",
        "    prep = []\n",
        "\n",
        "    # Read data\n",
        "    with open(data_fp, \"r\") as data_file:\n",
        "\n",
        "        for cnt, word in enumerate(data_file):\n",
        "\n",
        "            # End of sentence\n",
        "            if not word.split():\n",
        "                orig.append(word.strip())\n",
        "                word = \"--n--\"\n",
        "                prep.append(word)\n",
        "                continue\n",
        "\n",
        "            # Handle unknown words\n",
        "            elif word.strip() not in vocab:\n",
        "                orig.append(word.strip())\n",
        "                word = unkn_word(word)\n",
        "                prep.append(word)\n",
        "                continue\n",
        "\n",
        "            else:\n",
        "                orig.append(word.strip())\n",
        "                prep.append(word.strip())\n",
        "\n",
        "    assert(len(orig) == len(open(data_fp, \"r\").readlines()))\n",
        "    assert(len(prep) == len(open(data_fp, \"r\").readlines()))\n",
        "\n",
        "    return orig, prep"
      ],
      "metadata": {
        "id": "Wd7DXZBtii1X"
      },
      "execution_count": 148,
      "outputs": []
    },
    {
      "cell_type": "code",
      "source": [
        "import numpy as np\n",
        "import pandas as pd"
      ],
      "metadata": {
        "id": "CBEDwUb1xEAT"
      },
      "execution_count": 149,
      "outputs": []
    },
    {
      "cell_type": "code",
      "source": [
        "tags=['RB','NN','TO']"
      ],
      "metadata": {
        "id": "cSPRvj7WojQD"
      },
      "execution_count": 150,
      "outputs": []
    },
    {
      "cell_type": "code",
      "source": [
        "transition_counts = {\n",
        "    ('NN', 'NN'): 16241,\n",
        "    ('RB', 'RB'): 2263,\n",
        "    ('TO', 'TO'): 2,\n",
        "    ('NN', 'TO'): 5256,\n",
        "    ('RB', 'TO'): 855,\n",
        "    ('TO', 'NN'): 734,\n",
        "    ('NN', 'RB'): 2431,\n",
        "    ('RB', 'NN'): 358,\n",
        "    ('TO', 'RB'): 200\n",
        "}"
      ],
      "metadata": {
        "id": "w1ayGGCCosXB"
      },
      "execution_count": 151,
      "outputs": []
    },
    {
      "cell_type": "code",
      "source": [
        "num=len(tags)\n",
        "transition_matrix=np.zeros((num,num))\n",
        "transition_matrix"
      ],
      "metadata": {
        "colab": {
          "base_uri": "https://localhost:8080/"
        },
        "id": "5RbpVsbrotOe",
        "outputId": "f58c50c1-79d6-460f-9ee0-6aeb1f6aa2c0"
      },
      "execution_count": 152,
      "outputs": [
        {
          "output_type": "execute_result",
          "data": {
            "text/plain": [
              "array([[0., 0., 0.],\n",
              "       [0., 0., 0.],\n",
              "       [0., 0., 0.]])"
            ]
          },
          "metadata": {},
          "execution_count": 152
        }
      ]
    },
    {
      "cell_type": "code",
      "source": [
        "sorted_tags=sorted(tags)\n",
        "sorted_tags"
      ],
      "metadata": {
        "colab": {
          "base_uri": "https://localhost:8080/"
        },
        "id": "i4piOIfKo4_u",
        "outputId": "35776c35-d58f-43d9-cfbb-272c7bfbbf3b"
      },
      "execution_count": 153,
      "outputs": [
        {
          "output_type": "execute_result",
          "data": {
            "text/plain": [
              "['NN', 'RB', 'TO']"
            ]
          },
          "metadata": {},
          "execution_count": 153
        }
      ]
    },
    {
      "cell_type": "code",
      "source": [
        "for i in range(num):\n",
        "  for j in range(num):\n",
        "    tag_tuple=(sorted_tags[i],sorted_tags[j])\n",
        "    transition_matrix[i,j]=transition_counts[tag_tuple]\n",
        "\n",
        "transition_matrix"
      ],
      "metadata": {
        "colab": {
          "base_uri": "https://localhost:8080/"
        },
        "id": "CffWfwYjpL_3",
        "outputId": "081a6529-a303-4fdf-b27b-a6243e04e52d"
      },
      "execution_count": 154,
      "outputs": [
        {
          "output_type": "execute_result",
          "data": {
            "text/plain": [
              "array([[1.6241e+04, 2.4310e+03, 5.2560e+03],\n",
              "       [3.5800e+02, 2.2630e+03, 8.5500e+02],\n",
              "       [7.3400e+02, 2.0000e+02, 2.0000e+00]])"
            ]
          },
          "metadata": {},
          "execution_count": 154
        }
      ]
    },
    {
      "cell_type": "code",
      "source": [
        "def print_matrix(matrix):\n",
        "    print(pd.DataFrame(matrix, index=sorted_tags, columns=sorted_tags))"
      ],
      "metadata": {
        "id": "qAk9NcCLtITi"
      },
      "execution_count": 155,
      "outputs": []
    },
    {
      "cell_type": "code",
      "source": [
        "print_matrix(transition_matrix)"
      ],
      "metadata": {
        "colab": {
          "base_uri": "https://localhost:8080/"
        },
        "id": "bqgZQGtrqV8U",
        "outputId": "4e2024e3-9bdf-4e4b-911a-115a6ea8878d"
      },
      "execution_count": 156,
      "outputs": [
        {
          "output_type": "stream",
          "name": "stdout",
          "text": [
            "         NN      RB      TO\n",
            "NN  16241.0  2431.0  5256.0\n",
            "RB    358.0  2263.0   855.0\n",
            "TO    734.0   200.0     2.0\n"
          ]
        }
      ]
    },
    {
      "cell_type": "code",
      "source": [
        "transition_matrix=transition_matrix/10\n",
        "print_matrix(transition_matrix)"
      ],
      "metadata": {
        "colab": {
          "base_uri": "https://localhost:8080/"
        },
        "id": "XZckpAjDqp2F",
        "outputId": "b0b8d28d-13f2-48a5-bc14-a8449d07ab1a"
      },
      "execution_count": 157,
      "outputs": [
        {
          "output_type": "stream",
          "name": "stdout",
          "text": [
            "        NN     RB     TO\n",
            "NN  1624.1  243.1  525.6\n",
            "RB    35.8  226.3   85.5\n",
            "TO    73.4   20.0    0.2\n"
          ]
        }
      ]
    },
    {
      "cell_type": "code",
      "source": [
        "rows_sum=transition_matrix.sum(axis=1,keepdims=True)\n",
        "rows_sum"
      ],
      "metadata": {
        "colab": {
          "base_uri": "https://localhost:8080/"
        },
        "id": "Gz4Z1Enyq7Ki",
        "outputId": "c0eaa37b-81b7-4c0d-c413-6a545da818c1"
      },
      "execution_count": 158,
      "outputs": [
        {
          "output_type": "execute_result",
          "data": {
            "text/plain": [
              "array([[2392.8],\n",
              "       [ 347.6],\n",
              "       [  93.6]])"
            ]
          },
          "metadata": {},
          "execution_count": 158
        }
      ]
    },
    {
      "cell_type": "code",
      "source": [
        "transition_matrix=transition_matrix/rows_sum\n",
        "print_matrix(transition_matrix)"
      ],
      "metadata": {
        "colab": {
          "base_uri": "https://localhost:8080/"
        },
        "id": "mmCkOWuGr8tJ",
        "outputId": "553ad7db-0692-4ee1-f185-7f35f42b8fe0"
      },
      "execution_count": 159,
      "outputs": [
        {
          "output_type": "stream",
          "name": "stdout",
          "text": [
            "          NN        RB        TO\n",
            "NN  0.678745  0.101596  0.219659\n",
            "RB  0.102992  0.651036  0.245972\n",
            "TO  0.784188  0.213675  0.002137\n"
          ]
        }
      ]
    },
    {
      "cell_type": "code",
      "source": [
        "transition_matrix.sum(axis=1,keepdims=True)"
      ],
      "metadata": {
        "colab": {
          "base_uri": "https://localhost:8080/"
        },
        "id": "wIYjwQPfsVAb",
        "outputId": "dc12efcf-3a39-4954-d75a-f17ab4a2dd14"
      },
      "execution_count": 160,
      "outputs": [
        {
          "output_type": "execute_result",
          "data": {
            "text/plain": [
              "array([[1.],\n",
              "       [1.],\n",
              "       [1.]])"
            ]
          },
          "metadata": {},
          "execution_count": 160
        }
      ]
    },
    {
      "cell_type": "code",
      "source": [
        "t_matrix_for = np.copy(transition_matrix)"
      ],
      "metadata": {
        "id": "rRzzzhHat934"
      },
      "execution_count": 161,
      "outputs": []
    },
    {
      "cell_type": "code",
      "source": [
        "import math\n",
        "for i in range(num):\n",
        "  t_matrix_for[i,i]+=math.log(rows_sum[i])"
      ],
      "metadata": {
        "id": "cUrBuJkjvKQZ"
      },
      "execution_count": 162,
      "outputs": []
    },
    {
      "cell_type": "code",
      "source": [
        "print_matrix(t_matrix_for)"
      ],
      "metadata": {
        "colab": {
          "base_uri": "https://localhost:8080/"
        },
        "id": "8HddtYo9v8ol",
        "outputId": "991b4903-eb8c-4d6e-ce7e-ce45d81e0961"
      },
      "execution_count": 163,
      "outputs": [
        {
          "output_type": "stream",
          "name": "stdout",
          "text": [
            "          NN        RB        TO\n",
            "NN  8.458964  0.101596  0.219659\n",
            "RB  0.102992  6.502088  0.245972\n",
            "TO  0.784188  0.213675  4.541167\n"
          ]
        }
      ]
    },
    {
      "cell_type": "code",
      "source": [
        "with open(\"WSJ_02-21.pos\",'r') as f:\n",
        "  training_data=f.readlines()\n",
        "print(training_data[:5])\n",
        "print(len(training_data))"
      ],
      "metadata": {
        "colab": {
          "base_uri": "https://localhost:8080/"
        },
        "id": "XXcbmR84wFQs",
        "outputId": "58df2023-b78a-4d81-832c-5a6669ae578f"
      },
      "execution_count": 164,
      "outputs": [
        {
          "output_type": "stream",
          "name": "stdout",
          "text": [
            "['In\\tIN\\n', 'an\\tDT\\n', 'Oct.\\tNNP\\n', '19\\tCD\\n', 'review\\tNN\\n']\n",
            "989860\n"
          ]
        }
      ]
    },
    {
      "cell_type": "code",
      "source": [
        "with open('hmm_vocab.txt','r') as f:\n",
        "  voc_l=f.read().split('\\n')\n",
        "print(voc_l[:50])\n",
        "print(len(voc_l))"
      ],
      "metadata": {
        "colab": {
          "base_uri": "https://localhost:8080/"
        },
        "id": "zXODiCYQ5Lvg",
        "outputId": "20463326-e6c0-4034-a1eb-f0e2d93ffb4b"
      },
      "execution_count": 165,
      "outputs": [
        {
          "output_type": "stream",
          "name": "stdout",
          "text": [
            "['!', '#', '$', '%', '&', \"'\", \"''\", \"'40s\", \"'60s\", \"'70s\", \"'80s\", \"'86\", \"'90s\", \"'N\", \"'S\", \"'d\", \"'em\", \"'ll\", \"'m\", \"'n'\", \"'re\", \"'s\", \"'til\", \"'ve\", '(', ')', ',', '-', '--', '--n--', '--unk--', '--unk_adj--', '--unk_adv--', '--unk_digit--', '--unk_noun--', '--unk_punct--', '--unk_upper--', '--unk_verb--', '.', '...', '0.01', '0.0108', '0.02', '0.03', '0.05', '0.1', '0.10', '0.12', '0.13', '0.15']\n",
            "23777\n"
          ]
        }
      ]
    },
    {
      "cell_type": "code",
      "source": [
        "vocab={}\n",
        "for i,voc in enumerate(sorted(voc_l)):\n",
        "  vocab[voc]=i\n",
        "count=0\n",
        "for k,v in vocab.items():\n",
        "  print(f\"{k}: {v}\")\n",
        "  count+=1\n",
        "  if count>20:\n",
        "    break\n",
        "print(len(vocab))"
      ],
      "metadata": {
        "colab": {
          "base_uri": "https://localhost:8080/"
        },
        "id": "wzja-j_950Wm",
        "outputId": "e12c8ffd-3c8f-43ae-9424-0e694920f5b6"
      },
      "execution_count": 166,
      "outputs": [
        {
          "output_type": "stream",
          "name": "stdout",
          "text": [
            ": 0\n",
            "!: 1\n",
            "#: 2\n",
            "$: 3\n",
            "%: 4\n",
            "&: 5\n",
            "': 6\n",
            "'': 7\n",
            "'40s: 8\n",
            "'60s: 9\n",
            "'70s: 10\n",
            "'80s: 11\n",
            "'86: 12\n",
            "'90s: 13\n",
            "'N: 14\n",
            "'S: 15\n",
            "'d: 16\n",
            "'em: 17\n",
            "'ll: 18\n",
            "'m: 19\n",
            "'n': 20\n",
            "23777\n"
          ]
        }
      ]
    },
    {
      "cell_type": "code",
      "source": [
        "with open('WSJ_24.pos','r') as f:\n",
        "  test_data=f.readlines()\n",
        "print(test_data[:10])\n",
        "print(len(test_data))"
      ],
      "metadata": {
        "colab": {
          "base_uri": "https://localhost:8080/"
        },
        "id": "_Yv0qeaR68Wj",
        "outputId": "aab230aa-ed8b-409f-f570-3942d09b327a"
      },
      "execution_count": 167,
      "outputs": [
        {
          "output_type": "stream",
          "name": "stdout",
          "text": [
            "['The\\tDT\\n', 'economy\\tNN\\n', \"'s\\tPOS\\n\", 'temperature\\tNN\\n', 'will\\tMD\\n', 'be\\tVB\\n', 'taken\\tVBN\\n', 'from\\tIN\\n', 'several\\tJJ\\n', 'vantage\\tNN\\n']\n",
            "34199\n"
          ]
        }
      ]
    },
    {
      "cell_type": "code",
      "source": [
        "_,prep=preprocess(vocab,'test.words')\n",
        "print(\"the length of the preprocessed test corpus is:- \",len(prep))\n",
        "prep[:10]"
      ],
      "metadata": {
        "colab": {
          "base_uri": "https://localhost:8080/"
        },
        "id": "cmzqGqBh7l7Z",
        "outputId": "5c3878d4-280e-48ea-fbcc-69cce3468736"
      },
      "execution_count": 168,
      "outputs": [
        {
          "output_type": "stream",
          "name": "stdout",
          "text": [
            "the length of the preprocessed test corpus is:-  34199\n"
          ]
        },
        {
          "output_type": "execute_result",
          "data": {
            "text/plain": [
              "['The',\n",
              " 'economy',\n",
              " \"'s\",\n",
              " 'temperature',\n",
              " 'will',\n",
              " 'be',\n",
              " 'taken',\n",
              " 'from',\n",
              " 'several',\n",
              " '--unk--']"
            ]
          },
          "metadata": {},
          "execution_count": 168
        }
      ]
    },
    {
      "cell_type": "code",
      "source": [
        "def create_dictionaries(training_corpus,vocab,verbose=True):\n",
        "  emission_counts=defaultdict(int)\n",
        "  transition_counts=defaultdict(int)\n",
        "  tag_counts=defaultdict(int)\n",
        "\n",
        "  prev_tag='--s--'\n",
        "  i=0\n",
        "  for word_tag in training_corpus:\n",
        "    i+=1\n",
        "    if i%50000==0 and verbose:\n",
        "      print(f'word count = {i}')\n",
        "    word,tag=get_word_tag(word_tag,vocab)\n",
        "    transition_counts[(prev_tag,tag)]+=1\n",
        "    emission_counts[(tag,word)]+=1\n",
        "    tag_counts[tag]+=1\n",
        "    prev_tag=tag\n",
        "\n",
        "  return emission_counts,transition_counts,tag_counts\n"
      ],
      "metadata": {
        "id": "oxzbsZna9KJ8"
      },
      "execution_count": 169,
      "outputs": []
    },
    {
      "cell_type": "code",
      "source": [
        "emission_counts,transition_counts,tag_counts=create_dictionaries(training_data,vocab)"
      ],
      "metadata": {
        "colab": {
          "base_uri": "https://localhost:8080/"
        },
        "id": "LceMsP_wAyEb",
        "outputId": "2b1c5f9e-48a1-4c17-96f0-7e94aef52097"
      },
      "execution_count": 170,
      "outputs": [
        {
          "output_type": "stream",
          "name": "stdout",
          "text": [
            "word count = 50000\n",
            "word count = 100000\n",
            "word count = 150000\n",
            "word count = 200000\n",
            "word count = 250000\n",
            "word count = 300000\n",
            "word count = 350000\n",
            "word count = 400000\n",
            "word count = 450000\n",
            "word count = 500000\n",
            "word count = 550000\n",
            "word count = 600000\n",
            "word count = 650000\n",
            "word count = 700000\n",
            "word count = 750000\n",
            "word count = 800000\n",
            "word count = 850000\n",
            "word count = 900000\n",
            "word count = 950000\n"
          ]
        }
      ]
    },
    {
      "cell_type": "code",
      "source": [
        "states=sorted(tag_counts.keys())\n",
        "print(\"length of the states= \",len(states))\n",
        "print(states)"
      ],
      "metadata": {
        "colab": {
          "base_uri": "https://localhost:8080/"
        },
        "id": "vsjL7K3gBBt_",
        "outputId": "76e8e68a-37e8-4cf2-a4f3-73bfddd811cf"
      },
      "execution_count": 171,
      "outputs": [
        {
          "output_type": "stream",
          "name": "stdout",
          "text": [
            "length of the states=  54\n",
            "['#', '$', \"''\", '(', ')', ',', '--s--', '--unk--', '--unk_adj--', '--unk_adv--', '--unk_digit--', '--unk_noun--', '--unk_punct--', '--unk_upper--', '--unk_verb--', '.', ':', 'CC', 'CD', 'DT', 'EX', 'FW', 'IN', 'JJ', 'JJR', 'JJS', 'LS', 'MD', 'NN', 'NNP', 'NNPS', 'NNS', 'PDT', 'POS', 'PRP', 'PRP$', 'RB', 'RBR', 'RBS', 'RP', 'SYM', 'TO', 'UH', 'VB', 'VBD', 'VBG', 'VBN', 'VBP', 'VBZ', 'WDT', 'WP', 'WP$', 'WRB', '``']\n"
          ]
        }
      ]
    },
    {
      "cell_type": "code",
      "source": [
        "print('transition examples')\n",
        "for ex in list(transition_counts.items())[:3]:\n",
        "  print(ex)\n",
        "print()\n",
        "print(\"emission examples\")\n",
        "for ex in list(emission_counts.items())[:3]:\n",
        "  print(ex)\n",
        "print()\n",
        "print('tags examples')\n",
        "for ex in list(tag_counts.items())[:3]:\n",
        "  print(ex)\n",
        "\n",
        "print()\n",
        "print('ambiguous examples')\n",
        "for emi,cnt in list(emission_counts.items()):\n",
        "  if(emi[1]=='back'):\n",
        "    print(emi,cnt)\n"
      ],
      "metadata": {
        "colab": {
          "base_uri": "https://localhost:8080/"
        },
        "id": "9u0_yNpiBySF",
        "outputId": "4fc53b1a-70c7-49f5-fcd7-7d50e42eabf1"
      },
      "execution_count": 172,
      "outputs": [
        {
          "output_type": "stream",
          "name": "stdout",
          "text": [
            "transition examples\n",
            "(('--s--', 'IN'), 5042)\n",
            "(('IN', 'DT'), 32353)\n",
            "(('DT', 'NNP'), 8721)\n",
            "\n",
            "emission examples\n",
            "(('IN', 'In'), 1735)\n",
            "(('DT', 'an'), 3142)\n",
            "(('NNP', 'Oct.'), 317)\n",
            "\n",
            "tags examples\n",
            "('IN', 98537)\n",
            "('DT', 81840)\n",
            "('NNP', 86463)\n",
            "\n",
            "ambiguous examples\n",
            "('RB', 'back') 304\n",
            "('VB', 'back') 20\n",
            "('RP', 'back') 84\n",
            "('JJ', 'back') 25\n",
            "('NN', 'back') 29\n",
            "('VBP', 'back') 4\n"
          ]
        }
      ]
    },
    {
      "cell_type": "code",
      "source": [
        "def predict_pos(prep,y,emission_counts,vocab,states):\n",
        "  num_corr=0\n",
        "  all_words=set(emission_counts.keys())\n",
        "  total=len(y)\n",
        "  for word,tup in zip(prep,y):\n",
        "    y_tup=tup.split()\n",
        "    if len(y_tup)==2:\n",
        "      true_label=y_tup[1]\n",
        "    else:\n",
        "      continue\n",
        "\n",
        "    count_final=0\n",
        "    pos_final=''\n",
        "    if word in vocab:\n",
        "      for state in states:\n",
        "        key=(state,word)\n",
        "        if key in emission_counts.keys():\n",
        "          count=emission_counts[key]\n",
        "          if count_final<count:\n",
        "            count_final=count\n",
        "            pos_final=state\n",
        "\n",
        "      if true_label==pos_final:\n",
        "        num_corr+=1\n",
        "  accuracy=num_corr/total\n",
        "  return accuracy\n",
        "\n",
        ""
      ],
      "metadata": {
        "id": "caoIQhHrHkZv"
      },
      "execution_count": 173,
      "outputs": []
    },
    {
      "cell_type": "code",
      "source": [
        "accuracy_predict_pos=predict_pos(prep,test_data,emission_counts,vocab,states)\n",
        "print(\"The accuracy is: \", accuracy_predict_pos)"
      ],
      "metadata": {
        "colab": {
          "base_uri": "https://localhost:8080/"
        },
        "id": "yx47EsWrayQk",
        "outputId": "e7e6e1bc-90ff-4ffc-ae0a-d9c1c8524647"
      },
      "execution_count": 174,
      "outputs": [
        {
          "output_type": "stream",
          "name": "stdout",
          "text": [
            "The accuracy is:  0.8658147899061376\n"
          ]
        }
      ]
    },
    {
      "cell_type": "code",
      "source": [
        "def create_transition_matrix(alpha,tag_counts,transition_counts):\n",
        "  all_tags=sorted(tag_counts.keys())\n",
        "  num_tags=len(all_tags)\n",
        "  A=np.zeros((num_tags,num_tags))\n",
        "  trans_keys=set(transition_counts.keys())\n",
        "  for i in range(num_tags):\n",
        "    for j in range(num_tags):\n",
        "      count=0\n",
        "      key=(all_tags[i],all_tags[j])\n",
        "      if key in trans_keys:\n",
        "        count=transition_counts[key]\n",
        "      prev_tag_count=tag_counts[all_tags[i]]\n",
        "      A[i,j]=(count+alpha)/(prev_tag_count + num_tags*alpha)\n",
        "\n",
        "  return A\n",
        "\n",
        "\n",
        "\n",
        "\n"
      ],
      "metadata": {
        "id": "fpoDRAeRbKz5"
      },
      "execution_count": 175,
      "outputs": []
    },
    {
      "cell_type": "code",
      "source": [
        "alpha=0.001\n",
        "A= create_transition_matrix(alpha,tag_counts,transition_counts)\n",
        "print(f\"A at row 0, col 0: {A[0,0]:.9f}\")\n",
        "print(f\"A at row 3, col 1: {A[3,1]:.4f}\")\n",
        "\n",
        "print(\"View a subset of transition matrix A\")\n",
        "A_sub = pd.DataFrame(A[30:35,30:35], index=states[30:35], columns = states[30:35] )\n",
        "print(A_sub)\n"
      ],
      "metadata": {
        "colab": {
          "base_uri": "https://localhost:8080/"
        },
        "id": "zTpqgi78g_8t",
        "outputId": "34c76d37-4244-449d-963c-fae06fa58e39"
      },
      "execution_count": 176,
      "outputs": [
        {
          "output_type": "stream",
          "name": "stdout",
          "text": [
            "A at row 0, col 0: 0.000007040\n",
            "A at row 3, col 1: 0.1691\n",
            "View a subset of transition matrix A\n",
            "          NNPS       NNS           PDT           POS       PRP\n",
            "NNPS  0.014563  0.010922  4.045219e-07  2.548528e-02  0.001618\n",
            "NNS   0.000035  0.010383  5.184771e-05  9.260388e-03  0.004682\n",
            "PDT   0.000003  0.000003  2.702308e-06  2.702308e-06  0.000003\n",
            "POS   0.003103  0.127111  1.149286e-07  1.149286e-07  0.000115\n",
            "PRP   0.000057  0.000976  1.148281e-04  1.032993e-03  0.001607\n"
          ]
        }
      ]
    },
    {
      "cell_type": "code",
      "source": [
        "def create_emission_matrix(alpha,tag_counts,emission_counts,vocab):\n",
        "  all_tags=sorted(tag_counts.keys())\n",
        "  len_vocab=len(vocab)\n",
        "  len_tags=len(tag_counts)\n",
        "  B=np.zeros((len_tags,len_vocab))\n",
        "  emi_keys=set(emission_counts.keys())\n",
        "  for i in range(len_tags):\n",
        "    for j in range(len_vocab):\n",
        "      count=0\n",
        "      key=(all_tags[i],vocab[j])\n",
        "      if key in emi_keys:\n",
        "        count=emission_counts[key]\n",
        "      pos_count=tag_counts[all_tags[i]]\n",
        "      B[i,j]=(count+alpha)/(pos_count+alpha*len_vocab)\n",
        "\n",
        "  return B\n"
      ],
      "metadata": {
        "id": "hz9o7rRXiK5Y"
      },
      "execution_count": 177,
      "outputs": []
    },
    {
      "cell_type": "code",
      "source": [
        "alpha = 0.001\n",
        "B = create_emission_matrix(alpha, tag_counts, emission_counts, list(vocab))\n",
        "\n",
        "print(f\"View Matrix position at row 0, column 0: {B[0,0]:.9f}\")\n",
        "print(f\"View Matrix position at row 3, column 1: {B[3,1]:.9f}\")\n",
        "cidx  = ['725','adroitly','engineers', 'promoted', 'synergy']\n",
        "cols = [vocab[a] for a in cidx]\n",
        "rvals =['CD','NN','NNS', 'VB','RB','RP']\n",
        "rows = [states.index(a) for a in rvals]\n",
        "B_sub = pd.DataFrame(B[np.ix_(rows,cols)], index=rvals, columns = cidx )\n",
        "print(B_sub)"
      ],
      "metadata": {
        "colab": {
          "base_uri": "https://localhost:8080/"
        },
        "id": "i9hYfEyCnBY0",
        "outputId": "a105c6c8-6ec2-474d-cf20-6e7a231e39e3"
      },
      "execution_count": 178,
      "outputs": [
        {
          "output_type": "stream",
          "name": "stdout",
          "text": [
            "View Matrix position at row 0, column 0: 0.000006032\n",
            "View Matrix position at row 3, column 1: 0.000000720\n",
            "              725      adroitly     engineers      promoted       synergy\n",
            "CD   8.913567e-05  2.970199e-08  2.970199e-08  2.970199e-08  2.970199e-08\n",
            "NN   7.714813e-09  7.714813e-09  7.714813e-09  7.714813e-09  2.315215e-05\n",
            "NNS  1.726973e-08  1.726973e-08  4.835698e-04  1.726973e-08  1.726973e-08\n",
            "VB   3.847519e-08  3.847519e-08  3.847519e-08  3.847519e-08  3.847519e-08\n",
            "RB   3.271740e-08  6.546752e-05  3.271740e-08  3.271740e-08  3.271740e-08\n",
            "RP   3.723317e-07  3.723317e-07  3.723317e-07  3.723317e-07  3.723317e-07\n"
          ]
        }
      ]
    },
    {
      "cell_type": "code",
      "source": [
        "def initialize(states,tag_counts,A,B,corpus,vocab):\n",
        "  num_tags=len(set(tag_counts.keys()))\n",
        "  best_prob=np.zeros((num_tags,len(corpus)))\n",
        "  best_path=np.zeros((num_tags,len(corpus)),dtype=int)\n",
        "  s_indx=states.index('--s--')\n",
        "  for i in range(num_tags):\n",
        "    if A[s_indx,i]==0:\n",
        "      best_prob[i,0]=float(\"-inf\")\n",
        "    else:\n",
        "      best_prob[i,0]=math.log(A[s_indx,i])+math.log(B[i,vocab[corpus[0]]])\n",
        "\n",
        "  return best_prob,best_path\n",
        "\n",
        "\n",
        "\n"
      ],
      "metadata": {
        "id": "gT9q6nTxoW6c"
      },
      "execution_count": 179,
      "outputs": []
    },
    {
      "cell_type": "code",
      "source": [
        "best_probs, best_paths = initialize(states, tag_counts, A, B, prep, vocab)"
      ],
      "metadata": {
        "id": "jG0fyQc6yWqM"
      },
      "execution_count": 180,
      "outputs": []
    },
    {
      "cell_type": "code",
      "source": [
        "print(f\"best_probs[0,0]: {best_probs[0,0]:.4f}\")\n",
        "print(f\"best_paths[2,3]: {best_paths[2,3]:.4f}\")"
      ],
      "metadata": {
        "colab": {
          "base_uri": "https://localhost:8080/"
        },
        "id": "9AtsGWRgybML",
        "outputId": "467a772e-29b3-4435-851c-55fc9333131e"
      },
      "execution_count": 181,
      "outputs": [
        {
          "output_type": "stream",
          "name": "stdout",
          "text": [
            "best_probs[0,0]: -22.6098\n",
            "best_paths[2,3]: 0.0000\n"
          ]
        }
      ]
    },
    {
      "cell_type": "code",
      "source": [
        "def viterbi_forward(A,B,test_corpus,best_probs,best_paths,vocabs,verbose=True):\n",
        "  num_tags=best_probs.shape[0]\n",
        "  for i in range(1,len(test_corpus)):\n",
        "    if i % 5000 == 0 and verbose:\n",
        "      print(\"Words processed: {:>8}\".format(i))\n",
        "\n",
        "    for j in range(num_tags):\n",
        "      best_prob_i=float(\"-inf\")\n",
        "      best_path_i=None\n",
        "\n",
        "      for k in range(num_tags):\n",
        "        prob = best_probs[k,i-1]+math.log(A[k,j])+math.log(B[j,vocabs[test_corpus[i]]])\n",
        "        if prob>best_prob_i:\n",
        "          best_prob_i=prob\n",
        "          best_path_i=k\n",
        "\n",
        "      best_probs[j,i] = best_prob_i\n",
        "      best_paths[j,i] = best_path_i\n",
        "\n",
        "  return best_probs,best_paths\n",
        "\n",
        "\n",
        "\n"
      ],
      "metadata": {
        "id": "CNvNBSBEyehf"
      },
      "execution_count": 182,
      "outputs": []
    },
    {
      "cell_type": "code",
      "source": [
        "#vocab['unk']"
      ],
      "metadata": {
        "id": "73JZClGDHDMV"
      },
      "execution_count": 186,
      "outputs": []
    },
    {
      "cell_type": "code",
      "source": [
        "best_probs, best_paths = viterbi_forward(A, B, prep, best_probs, best_paths, vocab)"
      ],
      "metadata": {
        "colab": {
          "base_uri": "https://localhost:8080/"
        },
        "id": "Q_2yoF--7Tzy",
        "outputId": "c7ff4b77-0539-436e-9b87-d7aaf5361aee"
      },
      "execution_count": 184,
      "outputs": [
        {
          "output_type": "stream",
          "name": "stdout",
          "text": [
            "Words processed:     5000\n",
            "Words processed:    10000\n",
            "Words processed:    15000\n",
            "Words processed:    20000\n",
            "Words processed:    25000\n",
            "Words processed:    30000\n"
          ]
        }
      ]
    },
    {
      "cell_type": "code",
      "source": [
        "print(f\"best_probs[0,1]: {best_probs[0,1]:.4f}\")\n",
        "print(f\"best_probs[0,4]: {best_probs[0,4]:.4f}\")"
      ],
      "metadata": {
        "colab": {
          "base_uri": "https://localhost:8080/"
        },
        "id": "yi31qMvH7Xua",
        "outputId": "7a79cbaa-f4be-4ea6-ceb1-664f73776546"
      },
      "execution_count": 185,
      "outputs": [
        {
          "output_type": "stream",
          "name": "stdout",
          "text": [
            "best_probs[0,1]: -24.7822\n",
            "best_probs[0,4]: -49.5150\n"
          ]
        }
      ]
    },
    {
      "cell_type": "code",
      "source": [
        "def viterbi_backward_pass(best_probs,best_paths,corpus,states):\n",
        "  m = best_paths.shape[1]\n",
        "  z = [None] * m\n",
        "  num_tags = best_probs.shape[0]\n",
        "  best_prob_for_last_word = float('-inf')\n",
        "  pred = [None] * m\n",
        "  for k in range(num_tags):\n",
        "    if best_probs[k,m-1]>best_prob_for_last_word:\n",
        "      best_prob_for_last_word = best_probs[k,m-1]\n",
        "      z[m - 1] = k\n",
        "\n",
        "  pred[m - 1] = states[z[m-1]]\n",
        "\n",
        "  for i in range(m-1, 0, -1):\n",
        "    pos_tag_for_word_i = z[i]\n",
        "    z[i - 1] = best_paths[pos_tag_for_word_i,i]\n",
        "    pred[i - 1] = states[z[i-1]]\n",
        "\n",
        "  return pred"
      ],
      "metadata": {
        "id": "lRZ7hNRtKrk1"
      },
      "execution_count": 187,
      "outputs": []
    },
    {
      "cell_type": "code",
      "source": [
        "pred = viterbi_backward_pass(best_probs, best_paths, prep, states)\n",
        "m=len(pred)\n",
        "print('The prediction for pred[-7:m-1] is: \\n', prep[-7:m-1], \"\\n\", pred[-7:m-1], \"\\n\")\n",
        "print('The prediction for pred[0:8] is: \\n', pred[0:7], \"\\n\", prep[0:7])"
      ],
      "metadata": {
        "colab": {
          "base_uri": "https://localhost:8080/"
        },
        "id": "0smz43hlMgxb",
        "outputId": "a13863a2-e91c-4893-9dfb-aa791d7b3449"
      },
      "execution_count": 188,
      "outputs": [
        {
          "output_type": "stream",
          "name": "stdout",
          "text": [
            "The prediction for pred[-7:m-1] is: \n",
            " ['see', 'them', 'here', 'with', 'us', '.'] \n",
            " ['VB', 'PRP', 'RB', 'IN', 'PRP', '.'] \n",
            "\n",
            "The prediction for pred[0:8] is: \n",
            " ['DT', 'NN', 'POS', 'NN', 'MD', 'VB', 'VBN'] \n",
            " ['The', 'economy', \"'s\", 'temperature', 'will', 'be', 'taken']\n"
          ]
        }
      ]
    },
    {
      "cell_type": "code",
      "source": [
        "print('The third word is:', prep[3])\n",
        "print('Your prediction is:', pred[3])\n",
        "print('Your corresponding label y is: ', test_data[3])"
      ],
      "metadata": {
        "colab": {
          "base_uri": "https://localhost:8080/"
        },
        "id": "NEGipdNCOMc6",
        "outputId": "f8f99ed7-1019-4970-b365-afa577b52c4d"
      },
      "execution_count": 190,
      "outputs": [
        {
          "output_type": "stream",
          "name": "stdout",
          "text": [
            "The third word is: temperature\n",
            "Your prediction is: NN\n",
            "Your corresponding label y is:  temperature\tNN\n",
            "\n"
          ]
        }
      ]
    },
    {
      "cell_type": "code",
      "source": [
        "def compute_accuracy(pred,y):\n",
        "  num_correct=0\n",
        "  tot=0\n",
        "  for prediction,y in zip(pred,y):\n",
        "    word_tag_tuple=y.split()\n",
        "    if len(word_tag_tuple)!=2:\n",
        "      continue\n",
        "    word,tag=word_tag_tuple\n",
        "    if prediction==tag:\n",
        "      num_correct+=1\n",
        "    tot+=1\n",
        "\n",
        "  accuracy=num_correct/tot\n",
        "  return accuracy"
      ],
      "metadata": {
        "id": "R9yufjE_Of9r"
      },
      "execution_count": 191,
      "outputs": []
    },
    {
      "cell_type": "code",
      "source": [
        "print(f\"Accuracy of the Viterbi algorithm is {compute_accuracy(pred, test_data):.4f}\")"
      ],
      "metadata": {
        "colab": {
          "base_uri": "https://localhost:8080/"
        },
        "id": "TS2Jd2xNRULU",
        "outputId": "b7d11c9c-afd5-4a0f-a600-aeb2de48cac4"
      },
      "execution_count": 193,
      "outputs": [
        {
          "output_type": "stream",
          "name": "stdout",
          "text": [
            "Accuracy of the Viterbi algorithm is 0.9289\n"
          ]
        }
      ]
    },
    {
      "cell_type": "code",
      "source": [],
      "metadata": {
        "id": "qK_WqjioRaKP"
      },
      "execution_count": null,
      "outputs": []
    }
  ]
}